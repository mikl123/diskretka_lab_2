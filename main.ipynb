{
  "cells": [
    {
      "cell_type": "markdown",
      "metadata": {
        "id": "KvFRDhw-LSQJ"
      },
      "source": [
        "**Laboratory work #2**\n",
        "\n",
        "Team #17: Marta Sumyk and Mykhailo Byleshnyi.\n",
        "\n",
        "Distribution of work:\n",
        "- LZW: Marta Sumyk\n",
        "- LZ77: Mykhailo Byleshnyi\n",
        "- Huffman and Deflate: together\n",
        "\n",
        "\n"
      ]
    },
    {
      "cell_type": "code",
      "execution_count": 1,
      "metadata": {
        "id": "JXedsuE2xUKo"
      },
      "outputs": [],
      "source": [
        "#Importing all the necessary libraries:\n",
        "import time\n",
        "import random\n",
        "import string\n",
        "import numpy\n",
        "import doctest\n",
        "from typing import List\n",
        "import matplotlib.pyplot as plt"
      ]
    },
    {
      "attachments": {},
      "cell_type": "markdown",
      "metadata": {},
      "source": [
        "**LZW algorithm:**"
      ]
    },
    {
      "attachments": {},
      "cell_type": "markdown",
      "metadata": {},
      "source": [
        "Complexity:\n",
        "\n",
        "n - length of the input string\n",
        "\n",
        "Encoding - O(n)\n",
        "\n",
        "Decoding - O(n^2) - worst case, but in many cases it`s O(n)"
      ]
    },
    {
      "cell_type": "code",
      "execution_count": 3,
      "metadata": {
        "id": "Y8X4BwYQMNB9"
      },
      "outputs": [],
      "source": [
        "class Lzw:\n",
        "    '''\n",
        "    Class to perform LZW encoding and decoding.\n",
        "    >>> text = Lzw('abacabadabacacacd')\n",
        "    >>> text.encode()\n",
        "    [0, 1, 0, 2, 4, 0, 3, 8, 7, 12, 3]\n",
        "    >>> 'abacabadabacacacd' == text.decode([0, 1, 0, 2, 4, 0, 3, 8, 7, 12, 3])\n",
        "    True\n",
        "    '''\n",
        "    def __init__(self, data):\n",
        "        '''\n",
        "        Initialize the data.\n",
        "        '''\n",
        "        self.data = data\n",
        "\n",
        "    def encode(self):\n",
        "        '''\n",
        "        The main method to encode LZW code.\n",
        "        Returns list with code.\n",
        "        >>> text = Lzw('aaabbbbcccc')\n",
        "        >>> text.encode()\n",
        "        [0, 3, 1, 5, 1, 2, 8, 2]\n",
        "        '''\n",
        "        #Variable to store result:\n",
        "        code = []\n",
        "        #List to store the symbols that are already in dictionary:\n",
        "        symbols = []\n",
        "        for ch in self.data:\n",
        "            if ch not in symbols:\n",
        "                symbols.append(ch)\n",
        "        #String to store what we have read:\n",
        "        read = ''\n",
        "        for symbol in self.data:\n",
        "            with_next = read + symbol\n",
        "            #If string with symbol is already in dict, we should take next symbol:\n",
        "            if with_next in symbols:\n",
        "                read = with_next\n",
        "            else:\n",
        "                code.append(symbols.index(read))\n",
        "                symbols.append(with_next)\n",
        "                read = symbol\n",
        "        if read in symbols:\n",
        "            code.append(symbols.index(read))\n",
        "        return code\n",
        "\n",
        "    def decode(self, code: list):\n",
        "        '''\n",
        "        The LZW decoding.\n",
        "        '''\n",
        "        result = []\n",
        "        symbols = []\n",
        "        #Forming a set of characters:\n",
        "        for ch in self.data:\n",
        "            if ch not in symbols:\n",
        "                symbols.append(ch)\n",
        "        #Previous string added to the result:\n",
        "        previous = ''\n",
        "        for i in code:\n",
        "            if i < len(symbols):\n",
        "                if len(result) != 0:\n",
        "                    previous = result[-1]\n",
        "                    symbols.append(previous + (symbols[i])[0])\n",
        "                result.append(symbols[i])\n",
        "            if i == len(symbols):\n",
        "                if len(result) != 0:\n",
        "                    previous = result[-1]\n",
        "                    symbols.append(previous + previous[0])\n",
        "                result.append(previous + previous[0])\n",
        "            elif i > len(symbols):\n",
        "                if len(result) != 0:\n",
        "                    previous = result[-1]\n",
        "                new_str = previous + (symbols[i])[0]\n",
        "                symbols.append(new_str)\n",
        "                result.append(new_str)\n",
        "        return ''.join(result)"
      ]
    },
    {
      "attachments": {},
      "cell_type": "markdown",
      "metadata": {},
      "source": [
        "Function to open file on which we`ll be testing our algorithms:"
      ]
    },
    {
      "cell_type": "code",
      "execution_count": 4,
      "metadata": {
        "id": "-fAbo8vHwcpl"
      },
      "outputs": [],
      "source": [
        "def open_file(file_name: str):\n",
        "  '''\n",
        "  Opens txt file and returns it ad a string.\n",
        "  '''\n",
        "  with open(file_name, encoding='utf-8') as file:\n",
        "    text = file.read()\n",
        "  return text"
      ]
    },
    {
      "cell_type": "markdown",
      "metadata": {},
      "source": [
        "Now let`s calculate the compression coefficient of the above algorithm:"
      ]
    },
    {
      "cell_type": "code",
      "execution_count": 5,
      "metadata": {},
      "outputs": [
        {
          "ename": "FileNotFoundError",
          "evalue": "[Errno 2] No such file or directory: 'ChornaRada.txt'",
          "output_type": "error",
          "traceback": [
            "\u001b[1;31m---------------------------------------------------------------------------\u001b[0m",
            "\u001b[1;31mFileNotFoundError\u001b[0m                         Traceback (most recent call last)",
            "Cell \u001b[1;32mIn[5], line 11\u001b[0m\n\u001b[0;32m      8\u001b[0m     data_size \u001b[39m=\u001b[39m \u001b[39mlen\u001b[39m(data) \u001b[39m*\u001b[39m \u001b[39m8\u001b[39m\n\u001b[0;32m      9\u001b[0m     \u001b[39mreturn\u001b[39;00m \u001b[39m100\u001b[39m \u001b[39m-\u001b[39m code_size \u001b[39m/\u001b[39m data_size \u001b[39m*\u001b[39m \u001b[39m100\u001b[39m\n\u001b[1;32m---> 11\u001b[0m text \u001b[39m=\u001b[39m open_file(\u001b[39m'\u001b[39;49m\u001b[39mChornaRada.txt\u001b[39;49m\u001b[39m'\u001b[39;49m)\n\u001b[0;32m     12\u001b[0m \u001b[39mobject\u001b[39m \u001b[39m=\u001b[39m Lzw(text)\n\u001b[0;32m     13\u001b[0m code \u001b[39m=\u001b[39m text\u001b[39m.\u001b[39mencode()\n",
            "Cell \u001b[1;32mIn[4], line 5\u001b[0m, in \u001b[0;36mopen_file\u001b[1;34m(file_name)\u001b[0m\n\u001b[0;32m      1\u001b[0m \u001b[39mdef\u001b[39;00m \u001b[39mopen_file\u001b[39m(file_name: \u001b[39mstr\u001b[39m):\n\u001b[0;32m      2\u001b[0m \u001b[39m  \u001b[39m\u001b[39m'''\u001b[39;00m\n\u001b[0;32m      3\u001b[0m \u001b[39m  Opens txt file and returns it ad a string.\u001b[39;00m\n\u001b[0;32m      4\u001b[0m \u001b[39m  '''\u001b[39;00m\n\u001b[1;32m----> 5\u001b[0m   \u001b[39mwith\u001b[39;00m \u001b[39mopen\u001b[39;49m(file_name, encoding\u001b[39m=\u001b[39;49m\u001b[39m'\u001b[39;49m\u001b[39mutf-8\u001b[39;49m\u001b[39m'\u001b[39;49m) \u001b[39mas\u001b[39;00m file:\n\u001b[0;32m      6\u001b[0m     text \u001b[39m=\u001b[39m file\u001b[39m.\u001b[39mread()\n\u001b[0;32m      7\u001b[0m   \u001b[39mreturn\u001b[39;00m text\n",
            "File \u001b[1;32m~\\AppData\\Roaming\\Python\\Python311\\site-packages\\IPython\\core\\interactiveshell.py:282\u001b[0m, in \u001b[0;36m_modified_open\u001b[1;34m(file, *args, **kwargs)\u001b[0m\n\u001b[0;32m    275\u001b[0m \u001b[39mif\u001b[39;00m file \u001b[39min\u001b[39;00m {\u001b[39m0\u001b[39m, \u001b[39m1\u001b[39m, \u001b[39m2\u001b[39m}:\n\u001b[0;32m    276\u001b[0m     \u001b[39mraise\u001b[39;00m \u001b[39mValueError\u001b[39;00m(\n\u001b[0;32m    277\u001b[0m         \u001b[39mf\u001b[39m\u001b[39m\"\u001b[39m\u001b[39mIPython won\u001b[39m\u001b[39m'\u001b[39m\u001b[39mt let you open fd=\u001b[39m\u001b[39m{\u001b[39;00mfile\u001b[39m}\u001b[39;00m\u001b[39m by default \u001b[39m\u001b[39m\"\u001b[39m\n\u001b[0;32m    278\u001b[0m         \u001b[39m\"\u001b[39m\u001b[39mas it is likely to crash IPython. If you know what you are doing, \u001b[39m\u001b[39m\"\u001b[39m\n\u001b[0;32m    279\u001b[0m         \u001b[39m\"\u001b[39m\u001b[39myou can use builtins\u001b[39m\u001b[39m'\u001b[39m\u001b[39m open.\u001b[39m\u001b[39m\"\u001b[39m\n\u001b[0;32m    280\u001b[0m     )\n\u001b[1;32m--> 282\u001b[0m \u001b[39mreturn\u001b[39;00m io_open(file, \u001b[39m*\u001b[39;49margs, \u001b[39m*\u001b[39;49m\u001b[39m*\u001b[39;49mkwargs)\n",
            "\u001b[1;31mFileNotFoundError\u001b[0m: [Errno 2] No such file or directory: 'ChornaRada.txt'"
          ]
        }
      ],
      "source": [
        "def compression_coefficient(data, code):\n",
        "    '''\n",
        "    Calculates the compression coefficient (in percents) for the LZW algorithm.\n",
        "    '''\n",
        "    #First we turn our code to bytearray:\n",
        "    code = bytearray(code)\n",
        "    code_size = len(code)\n",
        "    data_size = len(data) * 8\n",
        "    return 100 - code_size / data_size * 100\n",
        "\n",
        "text = open_file('ChornaRada.txt')\n",
        "object = Lzw(text)\n",
        "code = text.encode()\n",
        "result = compression_coefficient(text, code)\n",
        "print(result)"
      ]
    },
    {
      "attachments": {},
      "cell_type": "markdown",
      "metadata": {},
      "source": [
        "Now let`s test the time on the 'Introduction to algorithms' Cormen book."
      ]
    },
    {
      "cell_type": "code",
      "execution_count": 39,
      "metadata": {
        "colab": {
          "base_uri": "https://localhost:8080/",
          "height": 339
        },
        "id": "H1zPRTNBw-Kg",
        "outputId": "7fa756a7-9f10-4df7-d06d-2041648adf76"
      },
      "outputs": [
        {
          "data": {
            "image/png": "[encoded data removed]",
            "text/plain": [
              "<Figure size 640x480 with 1 Axes>"
            ]
          },
          "metadata": {},
          "output_type": "display_data"
        },
        {
          "data": {
            "image/png": "[encoded data removed]",
            "text/plain": [
              "<Figure size 640x480 with 1 Axes>"
            ]
          },
          "metadata": {},
          "output_type": "display_data"
        },
        {
          "name": "stdout",
          "output_type": "stream",
          "text": [
            "So we can see that time that LZW algorithm takes to decode and encode data almost linearly depends on the size of input data.\n"
          ]
        }
      ],
      "source": [
        "def analyze_lzw():\n",
        "  '''\n",
        "  Function to measure time and build graphics of the LZW algorithm.\n",
        "  '''\n",
        "  data = open_file('text.txt')\n",
        "  encoded = []\n",
        "  decoded = []\n",
        "  text = []\n",
        "  number_of_ch = [i for i in range(100, 10000, 300)]\n",
        "  for k in number_of_ch:\n",
        "    string1 = data[:k]\n",
        "    text.append(string1)\n",
        "\n",
        "  for data in text:\n",
        "    #Initialize the object of class Lzw:\n",
        "    text_to_code = Lzw(data)\n",
        "\n",
        "    #Measuring time of encoding:\n",
        "    start1 = time.time()\n",
        "    encoding = text_to_code.encode()\n",
        "    end1 = time.time()\n",
        "    time_encode = end1 - start1\n",
        "\n",
        "    encoded.append(time_encode)\n",
        "\n",
        "    #Measuring the time of decoding:\n",
        "    start2 = time.time()\n",
        "    decoding = text_to_code.decode(encoding)\n",
        "    end2 = time.time()\n",
        "    time_decode = end2 - start2\n",
        "    decoded.append(time_decode)\n",
        "\n",
        "  #Visualization of the result:\n",
        "  #Encoding:\n",
        "  x = encoded\n",
        "  y = number_of_ch\n",
        "  plt.scatter(x, y)\n",
        "  plt.xlabel(\"Time to encode\")\n",
        "  plt.ylabel(\"Number of symbols\")\n",
        "  plt.title(\"LZW encoding\")\n",
        "  plt.show()\n",
        "  \n",
        "  #Decoding:\n",
        "  x = decoded\n",
        "  y = number_of_ch\n",
        "  plt.scatter(x, y)\n",
        "  plt.xlabel(\"Time to decode\")\n",
        "  plt.ylabel(\"Number of symbols\")\n",
        "  plt.title(\"LZW decoding\")\n",
        "  plt.show()\n",
        "  return f'So we can see that time that LZW algorithm takes to decode and encode data almost linearly depends on the size of input data.'\n",
        "\n",
        "print(analyze_lzw())\n"
      ]
    },
    {
      "attachments": {},
      "cell_type": "markdown",
      "metadata": {},
      "source": [
        "**Conclusion:**\n",
        "\n",
        "LZW is a 'dictionary-based' algorithm that scans the imput data for patterns that appear more than once.\n",
        "\n",
        "To show this we can also take two small strings: one with elements that repeat and other with all unique elements:"
      ]
    },
    {
      "cell_type": "code",
      "execution_count": 40,
      "metadata": {},
      "outputs": [
        {
          "name": "stdout",
          "output_type": "stream",
          "text": [
            "True\n",
            "17\n",
            "27\n"
          ]
        }
      ],
      "source": [
        "with_repeat = 'aababacaccabbcabbacbabbabab'\n",
        "unique = 'hjklsdfaoiqweo[;],zvwo/.qxw'\n",
        "\n",
        "#Check if the data is the same size:\n",
        "print(len(with_repeat) == len(unique))\n",
        "\n",
        "#Initializing objects of class LZW:\n",
        "with_repeat = Lzw(with_repeat)\n",
        "unique = Lzw(unique)\n",
        "\n",
        "code_with_repeat = with_repeat.encode()\n",
        "code_unique = unique.encode()\n",
        "\n",
        "print(len(code_with_repeat))\n",
        "print(len(code_unique))"
      ]
    },
    {
      "attachments": {},
      "cell_type": "markdown",
      "metadata": {},
      "source": [
        "So, we can see that even on such small amount of data LZW algorithm works much more better with data that has repetitions."
      ]
    },
    {
      "attachments": {},
      "cell_type": "markdown",
      "metadata": {},
      "source": [
        "**Huffman code algorithm:**"
      ]
    },
    {
      "attachments": {},
      "cell_type": "markdown",
      "metadata": {},
      "source": [
        "Compexity:\n",
        "n - Довжина вхідних данних\n",
        "### calculate_frequency = O(n)\n",
        "### encode_start = O(n^2)\n",
        "### encode(закодування самого повідомлення) = O(n)\n",
        "### decode = O(n)"
      ]
    },
    {
      "cell_type": "code",
      "execution_count": 51,
      "metadata": {},
      "outputs": [],
      "source": [
        "class HuffmanCode:\n",
        "    \"\"\"\n",
        "    Huffman code encode and decoder.\n",
        "    \"\"\"\n",
        "\n",
        "    def __init__(self, data: str):\n",
        "        \"\"\"\n",
        "        Initialize the data.\n",
        "        \"\"\"\n",
        "        self.data = data\n",
        "        self.probabilities = []\n",
        "        self.code = \"\"\n",
        "        self.code_dict = {}\n",
        "\n",
        "    def calculate_frequency(self) -> list:\n",
        "        \"\"\"\n",
        "        Helper method to calculate frequency of the characters.\n",
        "        >>> text = HuffmanCode(\"aaaaabbbbbffffhhhrro\")\n",
        "        >>> sorted(text.calculate_frequency())\n",
        "        [[0.05, '', 'o'], [0.1, '', 'r'], [0.15, '', 'h'], [0.2, '', 'f'], [0.25, '', 'a'], [0.25, '', 'b']]\n",
        "        >>> text = HuffmanCode(\"aaaaaaaaa\")\n",
        "        >>> sorted(text.calculate_frequency())\n",
        "        [[1.0, '', 'a']]\n",
        "        \"\"\"\n",
        "        characters = set()\n",
        "        for i in self.data:\n",
        "            characters.add(i)\n",
        "        result = []\n",
        "        for ch in characters:\n",
        "            self.probabilities.append([ch, (self.data.count(ch))/len(self.data)])\n",
        "            result.append([(self.data.count(ch))/len(self.data), '', ch])\n",
        "        return result\n",
        "\n",
        "    def encode_start(self, list_l):\n",
        "        \"\"\"\n",
        "        Main method to encode the string to Huffman code.\n",
        "        Returns list of lists, where the first element of each sublist is probability of the letter\n",
        "        and the second is it`s code.\n",
        "        >>> text = HuffmanCode(\"aaaaabbbb\")\n",
        "        >>> prb = text.calculate_frequency() \n",
        "        >>> text.encode_start(prb)\n",
        "        [[0.4444444444444444, '0', 'b'], [0.5555555555555556, '1', 'a']]\n",
        "        >>> text = HuffmanCode(\"a\")\n",
        "        >>> prb = text.calculate_frequency() \n",
        "        >>> text.encode_start(prb)\n",
        "        [[1.0, '1', 'a']]\n",
        "        >>> text = HuffmanCode(\"\")\n",
        "        >>> prb = text.calculate_frequency() \n",
        "        >>> text.encode_start(prb)\n",
        "        []\n",
        "        \"\"\"\n",
        "        if len(list_l)==0:\n",
        "            return []\n",
        "        if len(list_l)==1:\n",
        "            list_l[0][1]=\"1\"\n",
        "            return list_l\n",
        "        if len(list_l) > 2:\n",
        "            list_l = sorted(list_l, key=lambda x: x[0], reverse=True)\n",
        "            last_1 = list_l[-1]\n",
        "            last_2 = list_l[-2]\n",
        "            summary = [last_1[0] + last_2[0], \"\", \"\", last_1[-1] + last_2[-1]]\n",
        "            list_l = list_l[:-2] + [summary]\n",
        "            list_l = self.encode_start(list_l)\n",
        "            list_l = sorted(list_l, key=lambda x: x[0])\n",
        "            for i in list_l:\n",
        "                try:\n",
        "                    if i[-1] == last_1[-1] + last_2[-1]:\n",
        "                        last_1[1] = i[1] + \"0\"\n",
        "                        last_2[1] = i[1] + \"1\"\n",
        "                        list_l.remove(i)\n",
        "                        list_l.append(last_1)\n",
        "                        list_l.append(last_2)\n",
        "                        break\n",
        "                except IndexError:\n",
        "                    continue\n",
        "            self.code_dict = list_l\n",
        "            return list_l\n",
        "        #If lenght of the list is 2 than we can assign codes:\n",
        "        else:\n",
        "            list_l = sorted(list_l, key=lambda x: x[0])\n",
        "            list_l[0][1] = \"0\"\n",
        "            list_l[1][1] = \"1\"\n",
        "            return list_l\n",
        "\n",
        "    def encode(self):\n",
        "        \"\"\"\n",
        "        Returns the code string.\n",
        "        \"\"\"\n",
        "        buf = self.data\n",
        "        for i in self.code_dict:\n",
        "            buf = (buf).replace(i[2], i[1])\n",
        "        self.code = buf\n",
        "        return self.code\n",
        "\n",
        "    def decode(self):\n",
        "        \"\"\"\n",
        "        Decoding the Huffman code.\n",
        "        \"\"\"\n",
        "        result = ''\n",
        "        dicti = dict()\n",
        "        for j in self.code_dict:\n",
        "            dicti[j[1]] = j[2]\n",
        "        now = ''\n",
        "        for i in self.code:\n",
        "            now += i\n",
        "            if now in dicti:\n",
        "                result += dicti[now]\n",
        "                now = ''\n",
        "        result = result.replace('¡', '0')\n",
        "        result = result.replace('#', '1')\n",
        "        return result"
      ]
    },
    {
      "attachments": {},
      "cell_type": "markdown",
      "metadata": {},
      "source": [
        "Now let`s also calculate the compression coefficient of the above algorithm:"
      ]
    },
    {
      "cell_type": "code",
      "execution_count": 52,
      "metadata": {},
      "outputs": [
        {
          "name": "stdout",
          "output_type": "stream",
          "text": [
            "243.06270553581476\n"
          ]
        }
      ],
      "source": [
        "def compression_coefficient_huffman(data, code):\n",
        "    '''\n",
        "    Calculates the compression coefficient (in percents) for the LZW algorithm.\n",
        "    '''\n",
        "    #First we turn our code to bytearray:\n",
        "    byte = [int(i) for i in code]\n",
        "    bytearray_ = bytearray(byte)\n",
        "    code_size = len(bytearray_)\n",
        "    data_size = getsizeof(data)\n",
        "    return code_size / data_size * 100\n",
        "\n",
        "text = open_file('ChornaRada.txt')\n",
        "object = HuffmanCode(text)\n",
        "prob = object.calculate_frequency()\n",
        "code = object.encode_start(prob)\n",
        "encoded = object.encode()\n",
        "result = compression_coefficient_huffman(text, encoded)\n",
        "print(result)"
      ]
    },
    {
      "cell_type": "code",
      "execution_count": 53,
      "metadata": {},
      "outputs": [
        {
          "data": {
            "image/png": "[encoded data removed]",
            "text/plain": [
              "<Figure size 640x480 with 1 Axes>"
            ]
          },
          "metadata": {},
          "output_type": "display_data"
        },
        {
          "name": "stdout",
          "output_type": "stream",
          "text": [
            "So we can see that time that Huffman code algorithm takes to encode data also almost linearly depends on the size of input data. \n"
          ]
        }
      ],
      "source": [
        "def analyze_huffman():\n",
        "    '''\n",
        "    Function to measure time and build graphics of Huffman algorithm.\n",
        "    '''\n",
        "    encoded = []\n",
        "    decoded = []\n",
        "    text = []\n",
        "    number_of_ch = [i for i in range(100, 100000, 1000)]\n",
        "    data = open_file('text.txt')\n",
        "    for k in number_of_ch:\n",
        "        string1 = data[:k]\n",
        "        text.append(string1)\n",
        "    for data in text:\n",
        "        start1 = time.time()\n",
        "        to_code = HuffmanCode(data)\n",
        "        prob = to_code.calculate_frequency()\n",
        "        code = to_code.encode_start(prob)\n",
        "        encode = to_code.encode()\n",
        "        end1 = time.time()\n",
        "        time_to_encode = end1 - start1\n",
        "        encoded.append(time_to_encode)\n",
        "\n",
        "    #Visualization of the result:\n",
        "    #Encoding:\n",
        "    x = encoded\n",
        "    y = number_of_ch\n",
        "    plt.scatter(x, y)\n",
        "    plt.xlabel(\"Time to encode\")\n",
        "    plt.ylabel(\"Number of symbols\")\n",
        "    plt.title(\"Huffman encoding\")\n",
        "    plt.show()\n",
        "\n",
        "    return 'So we can see that time that Huffman code algorithm takes\\\n",
        " to encode data also almost linearly depends on the size of input data. '\n",
        "\n",
        "print(analyze_huffman())\n",
        "\n",
        "    "
      ]
    },
    {
      "attachments": {},
      "cell_type": "markdown",
      "metadata": {},
      "source": [
        "**Conclusion:**\n",
        "\n",
        "The code length is related to how frequently characters are used. Most frequent characters have the smallest codes and longer codes for least frequent characters. Complexity for assigning the code for each character according to their frequency is O(n log n). \n",
        "\n",
        "Huffman code will work better, if we have less range of different symbols."
      ]
    },
    {
      "attachments": {},
      "cell_type": "markdown",
      "metadata": {},
      "source": [
        "**LZ77 algorithm:**"
      ]
    },
    {
      "cell_type": "code",
      "execution_count": 64,
      "metadata": {},
      "outputs": [
        {
          "data": {
            "text/plain": [
              "TestResults(failed=0, attempted=50)"
            ]
          },
          "execution_count": 64,
          "metadata": {},
          "output_type": "execute_result"
        }
      ],
      "source": [
        "class Lz77:\n",
        "    \"\"\"\n",
        "    Lz77 Compressing method\n",
        "    \"\"\"\n",
        "    def __init__(self,text: str, search_block_len: int, front_block_len: int) -> None:\n",
        "        self.text=text\n",
        "        self.search_block_len=search_block_len\n",
        "        self.front_block_len=front_block_len\n",
        "        self.coded_message=[]\n",
        "\n",
        "    def lz77_encode(self) -> List[tuple]:\n",
        "        \"\"\"\n",
        "        Lz77 encoding.\n",
        "        >>> text1=Lz77(\"aaaa\",0,0)\n",
        "        >>> text1.lz77_encode()\n",
        "        [(0, 0, 'a'), (0, 0, 'a'), (0, 0, 'a'), (0, 0, 'a')]\n",
        "        >>> text1= Lz77(\"aaaa\",1,1)\n",
        "        >>> text1.lz77_encode()\n",
        "        [(0, 0, 'a'), (1, 1, 'a'), (1, 1, '')]\n",
        "        >>> text1=Lz77(\"abacabacabac\",5,5)\n",
        "        >>> text1.lz77_encode()\n",
        "        [(0, 0, 'a'), (0, 0, 'b'), (2, 1, 'c'), (4, 5, 'b'), (4, 2, '')]\n",
        "        >>> text1= Lz77(\"\",5,5)\n",
        "        >>> text1.lz77_encode()\n",
        "        []\n",
        "        >>> text1=Lz77(\"I love math!!!\",5,5)\n",
        "        >>> text1.lz77_encode()\n",
        "        [(0, 0, 'I'), (0, 0, ' '), (0, 0, 'l'), (0, 0, 'o'), (0, 0, 'v'), \\\n",
        "(0, 0, 'e'), (5, 1, 'm'), (0, 0, 'a'), (0, 0, 't'), (0, 0, 'h'), (0, 0, '!'), (1, 2, '')]\n",
        "        \"\"\"\n",
        "        front_block_len=self.front_block_len\n",
        "        search_block_len=self.search_block_len\n",
        "        text=self.text\n",
        "        position = 0\n",
        "        codding = []\n",
        "        while position < len(text):\n",
        "            search_block = text[max(0, position - search_block_len) : position]\n",
        "            front_block = text[position : min(position + front_block_len, len(text))]\n",
        "            best_match = (0, 0, text[position])\n",
        "            for i in range(len(search_block) - 1, -1, -1):\n",
        "                match = 0\n",
        "                if search_block[i] == front_block[0]:\n",
        "                    match += 1\n",
        "                    small_list = search_block[i:]\n",
        "                    for j in range(1, len(front_block)):\n",
        "                        if small_list[j % len(small_list)] == front_block[j]:\n",
        "                            match += 1\n",
        "                        else:\n",
        "                            break\n",
        "                if match > best_match[1]:\n",
        "                    best_match = (\n",
        "                        len(search_block) - i,\n",
        "                        match,\n",
        "                        \"\" if position + match > len(text) - 1 else text[position + match],\n",
        "                    )\n",
        "            position = position + best_match[1] + 1\n",
        "            codding.append(best_match)\n",
        "        self.coded_message=codding\n",
        "        return codding\n",
        "    def decodelz77(self) -> str:\n",
        "        \"\"\"\n",
        "        Decodes Lz77 and return text as string\n",
        "        >>> text1=Lz77(\"aaa,a\",0,0)\n",
        "        >>> assert(text1.lz77_encode())\n",
        "        >>> text1.decodelz77()\n",
        "        'aaa,a'\n",
        "        >>> text1=Lz77(\"aaaa\",1,1)\n",
        "        >>> assert(text1.lz77_encode())\n",
        "        >>> text1.decodelz77()\n",
        "        'aaaa'\n",
        "        >>> text1=Lz77(\"abacabacabac\",5,5)\n",
        "        >>> assert(text1.lz77_encode())\n",
        "        >>> text1.decodelz77()\n",
        "        'abacabacabac'\n",
        "        >>> text1=Lz77(\"\",5,5)\n",
        "        >>> assert(not text1.lz77_encode())\n",
        "        >>> text1.decodelz77()\n",
        "        ''\n",
        "        >>> text1=Lz77(\"I love math!!!\",5,5)\n",
        "        >>> assert(text1.lz77_encode())\n",
        "        >>> text1.decodelz77()\n",
        "        'I love math!!!'\n",
        "        \"\"\"\n",
        "        codes=self.coded_message\n",
        "        text = \"\"\n",
        "        for code in codes:\n",
        "            small_list = text[len(text) - code[0] :]\n",
        "            for k in range(0, code[1]):\n",
        "                text += small_list[k % code[0]]\n",
        "            text += code[2]\n",
        "        return text\n",
        "    @staticmethod\n",
        "    def decode_from_str(codes):\n",
        "        \"\"\"\n",
        "        Decoder for string (needed for deflate) \n",
        "        \"\"\"\n",
        "        text = \"\"\n",
        "        codes = codes.split(\",\")\n",
        "        codes = [(codes[i],codes[i+1],codes[i+2]) for i in range(0,len(codes),3)]\n",
        "        for code in codes:\n",
        "            small_list = text[len(text) - int(code[0]) :]\n",
        "            for k in range(0, int(code[1])):\n",
        "                text += small_list[k % int(code[0])]\n",
        "            text += code[2]\n",
        "        return text\n",
        "    def count_compressing(self):\n",
        "        \"\"\"\n",
        "        Count compressing efficiency\n",
        "        \"\"\"\n",
        "        compressed_len = len(self.coded_message)*3\n",
        "        text_len=len(self.text)\n",
        "        return 100-((compressed_len / text_len)*100)\n",
        "doctest.testmod()"
      ]
    },
    {
      "attachments": {},
      "cell_type": "markdown",
      "metadata": {},
      "source": [
        "Lz 77\n",
        "1) n - Довжина вхідного тексту\n",
        "2) k - Довжина блоку пошуку\n",
        "3) l - Довжина переднього блоку\n",
        "4) m - Довжина стисутого повідомлення\n",
        "##### Складність Lz77 encode = O(n*k*l)\n",
        "##### Складність Lz77 decode = O(m*k)"
      ]
    },
    {
      "cell_type": "code",
      "execution_count": 56,
      "metadata": {},
      "outputs": [
        {
          "name": "stdout",
          "output_type": "stream",
          "text": [
            "-102.60205299594176% стиснення для таких блоків (10 ,10), для такого розміру 1000\n",
            "-10.687855949254853% стиснення для таких блоків (100 ,100), для такого розміру 1000\n",
            "14.035057804453842% стиснення для таких блоків (300 ,300), для такого розміру 1000\n",
            "22.025372574429625% стиснення для таких блоків (500 ,500), для такого розміру 1000\n",
            "-96.81622911694512% стиснення для таких блоків (10 ,10), для такого розміру 5000\n",
            "-8.542959427207649% стиснення для таких блоків (100 ,100), для такого розміру 5000\n",
            "18.017899761336523% стиснення для таких блоків (300 ,300), для такого розміру 5000\n",
            "26.908114558472548% стиснення для таких блоків (500 ,500), для такого розміру 5000\n",
            "-97.71309517760051% стиснення для таких блоків (10 ,10), для такого розміру 10000\n",
            "-9.597032369530979% стиснення для таких блоків (100 ,100), для такого розміру 10000\n",
            "18.035469281975708% стиснення для таких блоків (300 ,300), для такого розміру 10000\n",
            "27.210935515016004% стиснення для таких блоків (500 ,500), для такого розміру 10000\n"
          ]
        },
        {
          "data": {
            "image/png": "[encoded data removed]",
            "text/plain": [
              "<Figure size 640x480 with 1 Axes>"
            ]
          },
          "metadata": {},
          "output_type": "display_data"
        }
      ],
      "source": [
        "def evaluate_lz77(filename: str):\n",
        "        \"\"\"\n",
        "        Function for evaluating Lz 77\n",
        "        \"\"\"\n",
        "        text_sizes = [1000, 5000,10000]\n",
        "        offsets = [(10, 10), (100, 100),(300,300),(500,500)]\n",
        "        times=[]\n",
        "        with open(filename, \"r\", encoding=\"utf-8\") as file:\n",
        "            text = file.read().split(\"\\n\")\n",
        "        for size in text_sizes:\n",
        "            for offset in offsets:\n",
        "                start1 = time.time()\n",
        "                compressor = Lz77(\"\".join(text[:size]), offset[0], offset[1])\n",
        "                compressor.lz77_encode()\n",
        "                end1 = time.time()\n",
        "                time_encode = end1 - start1\n",
        "                assert compressor.decodelz77() == \"\".join(text[:size])\n",
        "                print(f\"{str(compressor.count_compressing())}% стиснення для таких блоків ({offset[0]} ,{offset[1]}), для такого розміру {size}\")\n",
        "                times.append((size, time_encode))\n",
        "        times = numpy.array(times)\n",
        "        x = times[:, 1]\n",
        "        y = times[:, 0]\n",
        "        plt.scatter(y, x)\n",
        "        plt.ylabel(\"Time to encode\")\n",
        "        plt.xlabel(\"Number of lines of text\")\n",
        "        plt.title(\"LZ77 encoding\")\n",
        "        plt.show()\n",
        "evaluate_lz77(\"text.txt\")"
      ]
    },
    {
      "attachments": {},
      "cell_type": "markdown",
      "metadata": {},
      "source": [
        "Conclusion:"
      ]
    },
    {
      "attachments": {},
      "cell_type": "markdown",
      "metadata": {},
      "source": [
        "На графіку можна побачити що час виконанння алгоритму стисту сильно залежить від величину блоку пошуку та величини переднього блоку. Також можна помітити що зі збільшенням величину блоку пошуку та величини переднього блоку збільшується величина стиску. Можна досягти ща більшого стиску якщо збільшити розміри блоків ще більше, але це буду сильно впливати на час виконання."
      ]
    },
    {
      "attachments": {},
      "cell_type": "markdown",
      "metadata": {},
      "source": [
        "**Deflate algorithm:**"
      ]
    },
    {
      "cell_type": "code",
      "execution_count": 59,
      "metadata": {},
      "outputs": [
        {
          "name": "stdout",
          "output_type": "stream",
          "text": [
            "TestResults(failed=0, attempted=50)\n"
          ]
        }
      ],
      "source": [
        "class Deflate:\n",
        "    \"\"\"\n",
        "    Performs the Delfate algorithm\n",
        "    >>> defl=Deflate(\"test\")\n",
        "    >>> defl.encode()\n",
        "    '110110100001101101011001101101001010111010100'\n",
        "    >>> assert defl.decode()==\"test\"\n",
        "    \"\"\"\n",
        "\n",
        "    def __init__(self, data):\n",
        "        \"\"\"\n",
        "        Initial method\n",
        "        \"\"\"\n",
        "        self.data = data\n",
        "        self.special_0 = \"⌇\"\n",
        "        self.special_1 = \"˚\"\n",
        "        self.haffman = object\n",
        "\n",
        "    def encode(self) -> str:\n",
        "        \"\"\"\n",
        "        Encoding the string by combination LZ77 and Huffman algorithms.\n",
        "        \"\"\"\n",
        "        lz77 = Lz77(self.data, 100, 100)\n",
        "        code = lz77.lz77_encode()\n",
        "        code_str = (\n",
        "            str(code)\n",
        "            .replace(\"[\", \"\")\n",
        "            .replace(\"]\", \"\")\n",
        "            .replace(\")\", \"\")\n",
        "            .replace(\"(\", \"\")\n",
        "            .replace(\"'\", \"\")\n",
        "            .replace(\", \",\",\")\n",
        "            .replace(\"0\", self.special_0)\n",
        "            .replace(\"1\", self.special_1)\n",
        "        )\n",
        "        haffman = HuffmanCode(code_str)\n",
        "        self.haffman = haffman\n",
        "        prob = haffman.calculate_frequency()\n",
        "        haffman.encode_start(prob)\n",
        "        haffman.encode()\n",
        "        return self.haffman.code\n",
        "\n",
        "    def decode(self) -> str:\n",
        "        \"\"\"\n",
        "        Decode deflate algorithm.\n",
        "        \"\"\"\n",
        "        lz_str = str(\n",
        "            self.haffman.decode()\n",
        "            .replace(self.special_0, \"0\")\n",
        "            .replace(self.special_1, \"1\")\n",
        "        )\n",
        "        return Lz77.decode_from_str(lz_str)\n",
        "\n",
        "    def compare_compression(self) -> float:\n",
        "        \"\"\"\n",
        "        Compare compression of Deflate algorithm.\n",
        "        \"\"\"\n",
        "        return 100-(len(self.haffman.code)/(len(self.data))*8)"
      ]
    },
    {
      "cell_type": "code",
      "execution_count": 61,
      "metadata": {},
      "outputs": [
        {
          "name": "stdout",
          "output_type": "stream",
          "text": [
            "14.779200000000003% стиснення для таких блоків (100 ,100), для такого розміру 10000\n",
            "14.649600000000007% стиснення для таких блоків (100 ,100), для такого розміру 20000\n",
            "14.555520000000001% стиснення для таких блоків (100 ,100), для такого розміру 50000\n",
            "14.769679999999994% стиснення для таких блоків (100 ,100), для такого розміру 100000\n"
          ]
        },
        {
          "data": {
            "image/png": "[encoded data removed]",
            "text/plain": [
              "<Figure size 640x480 with 1 Axes>"
            ]
          },
          "metadata": {},
          "output_type": "display_data"
        }
      ],
      "source": [
        "def evaluate_deflate():\n",
        "        text_sizes = [10000,20000,50000,100000]\n",
        "        times=[]\n",
        "        for size in text_sizes:  \n",
        "            start1 = time.time()\n",
        "            text_generated=str(''.join(random.choices(string.ascii_lowercase + string.digits, k = size)))\n",
        "            compressor = Deflate(text_generated)\n",
        "            compressor.encode()\n",
        "            end1 = time.time()\n",
        "            time_encode = end1 - start1\n",
        "\n",
        "            assert compressor.decode() == text_generated\n",
        "            print(f\"{str(compressor.compare_compression())}% стиснення для таких блоків (100 ,100), для такого розміру {size}\")\n",
        "            times.append((size, time_encode))\n",
        "        times = numpy.array(times)\n",
        "        x = times[:, 1]\n",
        "        y = times[:, 0]\n",
        "        plt.scatter(y, x)\n",
        "        plt.ylabel(\"Time to encode\")\n",
        "        plt.xlabel(\"Number of symbols of text\")\n",
        "        plt.title(\"Deflate encoding\")\n",
        "        plt.show()\n",
        "evaluate_deflate()"
      ]
    },
    {
      "attachments": {},
      "cell_type": "markdown",
      "metadata": {},
      "source": [
        "Conclusion"
      ]
    },
    {
      "attachments": {},
      "cell_type": "markdown",
      "metadata": {},
      "source": [
        "Через те що кожен символ тексту генерується окремо то алгоритм стиску не може знайти блоки для копіювання, але всеж deflate є набагато ефективніший за lz 77 і може зменшити розмір навіть в таких ситуаціях."
      ]
    },
    {
      "attachments": {},
      "cell_type": "markdown",
      "metadata": {},
      "source": [
        "**Conclusions:**"
      ]
    },
    {
      "attachments": {},
      "cell_type": "markdown",
      "metadata": {},
      "source": [
        "Now let`s compare encoding of all the above algorithms on the book 'Chorna Rada' and decide, which of them works faster and more effective."
      ]
    },
    {
      "cell_type": "code",
      "execution_count": 63,
      "metadata": {},
      "outputs": [
        {
          "name": "stdout",
          "output_type": "stream",
          "text": [
            "LZW code time: 176.1288275718689\n",
            "Huffman code time: 0.2631378173828125\n",
            "LZ77 time: 1.2296783924102783\n",
            "Deflate time: 6.806949615478516\n"
          ]
        }
      ],
      "source": [
        "data = open_file('ChornaRada.txt')\n",
        "\n",
        "lzw = Lzw(data)\n",
        "start1 = time.time()\n",
        "code_lzw = lzw.encode()\n",
        "end1 = time.time()\n",
        "lzw_time = end1 - start1\n",
        "print('LZW code time:', lzw_time)\n",
        "\n",
        "huffman = HuffmanCode(data)\n",
        "start2 = time.time()\n",
        "prob = huffman.calculate_frequency()\n",
        "code = huffman.encode_start(prob)\n",
        "code_huffman = huffman.encode()\n",
        "end2 = time.time()\n",
        "huffman_time = end2 - start2\n",
        "print('Huffman code time:', huffman_time)\n",
        "\n",
        "lz77 = Lz77(data, 5, 5)\n",
        "start3 = time.time()\n",
        "code_lz77 = lz77.lz77_encode()\n",
        "end3 = time.time()\n",
        "lz77_time = end3 - start3\n",
        "print('LZ77 time:', lz77_time)\n",
        "\n",
        "deflate = Deflate(data)\n",
        "start4 = time.time()\n",
        "code_deflate = deflate.encode()\n",
        "end4 = time.time()\n",
        "deflate_time = end4 - start4\n",
        "print('Deflate time:', deflate_time)\n"
      ]
    },
    {
      "attachments": {},
      "cell_type": "markdown",
      "metadata": {},
      "source": [
        "- LZW works well for compressing text and image files containing repeated patterns, as it can achieve good compression ratios. It is often used in the GIF image format.\n",
        "- LZ77 is effective for compressing text files and works well when there are many repeated patterns in the data. Now it is often used in the Deflate algorithm, which is used in the ZIP and gzip file formats.\n",
        "- Huffman coding works well for compressing text files and other data types where certain symbols occur more frequently than others.\n",
        "- Deflate works well for compressing a wide range of data types, including text, images, and other binary data."
      ]
    }
  ],
  "metadata": {
    "colab": {
      "provenance": []
    },
    "kernelspec": {
      "display_name": "Python 3",
      "name": "python3"
    },
    "language_info": {
      "codemirror_mode": {
        "name": "ipython",
        "version": 3
      },
      "file_extension": ".py",
      "mimetype": "text/x-python",
      "name": "python",
      "nbconvert_exporter": "python",
      "pygments_lexer": "ipython3",
      "version": "3.11.2"
    }
  },
  "nbformat": 4,
  "nbformat_minor": 0
}
